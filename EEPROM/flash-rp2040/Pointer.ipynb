{
 "cells": [
  {
   "attachments": {},
   "cell_type": "markdown",
   "metadata": {},
   "source": [
    "Installation with mamba or conda\n",
    "The safest usage is to create an environment named cling:\n",
    "\n",
    "```\n",
    "mamba create -n cling\n",
    "source activate cling\n",
    "```\n",
    "\n",
    "Then you can install in this environment xeus-cling and its dependencies\n",
    "\n",
    "`mamba install xeus-cling -c conda-forge`\n",
    "\n",
    "Aaaand it fails 🙄\n"
   ]
  },
  {
   "cell_type": "code",
   "execution_count": null,
   "metadata": {},
   "outputs": [],
   "source": []
  }
 ],
 "metadata": {
  "language_info": {
   "name": "python"
  },
  "orig_nbformat": 4
 },
 "nbformat": 4,
 "nbformat_minor": 2
}
